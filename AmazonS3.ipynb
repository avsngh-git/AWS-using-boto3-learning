{
 "cells": [
  {
   "cell_type": "code",
   "execution_count": 1,
   "metadata": {},
   "outputs": [],
   "source": [
    "import boto3\n",
    "import os \n",
    "import sys\n",
    "import pandas as pd\n"
   ]
  },
  {
   "cell_type": "code",
   "execution_count": 3,
   "metadata": {},
   "outputs": [
    {
     "data": {
      "text/plain": [
       "[]"
      ]
     },
     "execution_count": 3,
     "metadata": {},
     "output_type": "execute_result"
    }
   ],
   "source": [
    "os.listdir('./data/')"
   ]
  },
  {
   "cell_type": "code",
   "execution_count": 4,
   "metadata": {},
   "outputs": [],
   "source": [
    "#Create an S3 instance\n",
    "client = boto3.client('s3')\n"
   ]
  },
  {
   "cell_type": "code",
   "execution_count": 5,
   "metadata": {},
   "outputs": [],
   "source": [
    "response = client.create_bucket(\n",
    "    ACL='private',\n",
    "    Bucket='avinashsingh07132022',\n",
    "    CreateBucketConfiguration={\n",
    "        'LocationConstraint': 'ap-south-1'\n",
    "    },\n",
    "    ObjectLockEnabledForBucket= False,\n",
    "    ObjectOwnership='BucketOwnerPreferred'\n",
    ")"
   ]
  },
  {
   "cell_type": "code",
   "execution_count": 7,
   "metadata": {},
   "outputs": [
    {
     "data": {
      "text/plain": [
       "{'ResponseMetadata': {'RequestId': 'GZVMNA3N1WWXG5VG',\n",
       "  'HostId': '3vHm/v3/1LbQHSmL2tZEUEJ55W4Z7JFzrDRWQXpH80Bn14raUE6VEKZ5p/10HYW02m7WJpGHvyE=',\n",
       "  'HTTPStatusCode': 200,\n",
       "  'HTTPHeaders': {'x-amz-id-2': '3vHm/v3/1LbQHSmL2tZEUEJ55W4Z7JFzrDRWQXpH80Bn14raUE6VEKZ5p/10HYW02m7WJpGHvyE=',\n",
       "   'x-amz-request-id': 'GZVMNA3N1WWXG5VG',\n",
       "   'date': 'Wed, 13 Jul 2022 12:27:36 GMT',\n",
       "   'content-type': 'application/xml',\n",
       "   'transfer-encoding': 'chunked',\n",
       "   'server': 'AmazonS3'},\n",
       "  'RetryAttempts': 0},\n",
       " 'Buckets': [{'Name': 'avi-learning-bucket',\n",
       "   'CreationDate': datetime.datetime(2022, 7, 12, 13, 45, 30, tzinfo=tzutc())},\n",
       "  {'Name': 'avinashsingh07132022',\n",
       "   'CreationDate': datetime.datetime(2022, 7, 13, 12, 15, 54, tzinfo=tzutc())}],\n",
       " 'Owner': {'ID': '15bef8ce5b570a5e674f9934ab70bc06e78cd36047d5382d8556c2d3d4fcc4f7'}}"
      ]
     },
     "execution_count": 7,
     "metadata": {},
     "output_type": "execute_result"
    }
   ],
   "source": [
    "# list the buckets created in the account\n",
    "client.list_buckets()"
   ]
  },
  {
   "cell_type": "code",
   "execution_count": 8,
   "metadata": {},
   "outputs": [],
   "source": [
    "with open('./data/parquet_partitions.jpg', 'rb') as f:\n",
    "    data=f.read()\n",
    "\n",
    "\n",
    "\"\"\" file always has to be read in binary for upload\"\"\""
   ]
  },
  {
   "cell_type": "code",
   "execution_count": 9,
   "metadata": {},
   "outputs": [],
   "source": [
    "response = response = client.put_object(\n",
    "    ACL='private',\n",
    "    Body=data,\n",
    "    Bucket='avinashsingh07132022',\n",
    "    Key='parquet_partition.jpg'\n",
    ")\n",
    " "
   ]
  },
  {
   "cell_type": "code",
   "execution_count": 12,
   "metadata": {},
   "outputs": [
    {
     "data": {
      "text/plain": [
       "{'ResponseMetadata': {'RequestId': 'CHWNADJ6XYA0PVGH',\n",
       "  'HostId': 'rqtFGfCBICZ3R8UO5KYeEI/JEKFjgm29k5pBFzee+shP50F05+xJxAZTEfBYLbt2YDQq8RhVCwA=',\n",
       "  'HTTPStatusCode': 200,\n",
       "  'HTTPHeaders': {'x-amz-id-2': 'rqtFGfCBICZ3R8UO5KYeEI/JEKFjgm29k5pBFzee+shP50F05+xJxAZTEfBYLbt2YDQq8RhVCwA=',\n",
       "   'x-amz-request-id': 'CHWNADJ6XYA0PVGH',\n",
       "   'date': 'Wed, 13 Jul 2022 13:06:09 GMT',\n",
       "   'x-amz-bucket-region': 'ap-south-1',\n",
       "   'content-type': 'application/xml',\n",
       "   'transfer-encoding': 'chunked',\n",
       "   'server': 'AmazonS3'},\n",
       "  'RetryAttempts': 0},\n",
       " 'IsTruncated': False,\n",
       " 'Marker': '',\n",
       " 'Contents': [{'Key': 'Screenshot 2022-07-10 174537.jpg',\n",
       "   'LastModified': datetime.datetime(2022, 7, 12, 13, 47, 28, tzinfo=tzutc()),\n",
       "   'ETag': '\"154ecdf0702b66e945a62043998925ef\"',\n",
       "   'Size': 220188,\n",
       "   'StorageClass': 'STANDARD',\n",
       "   'Owner': {'ID': '15bef8ce5b570a5e674f9934ab70bc06e78cd36047d5382d8556c2d3d4fcc4f7'}}],\n",
       " 'Name': 'avi-learning-bucket',\n",
       " 'Prefix': '',\n",
       " 'MaxKeys': 1000,\n",
       " 'EncodingType': 'url'}"
      ]
     },
     "execution_count": 12,
     "metadata": {},
     "output_type": "execute_result"
    }
   ],
   "source": [
    "#list all objects in a bucket\n",
    "response = client.list_objects(\n",
    "    Bucket='avi-learning-bucket'\n",
    ")\n",
    "response"
   ]
  },
  {
   "cell_type": "code",
   "execution_count": 13,
   "metadata": {},
   "outputs": [],
   "source": [
    "#delete object in a bucket\n",
    "response = client.delete_object(\n",
    "    Bucket='avi-learning-bucket',\n",
    "    Key='Screenshot 2022-07-10 174537.jpg'\n",
    ")"
   ]
  },
  {
   "cell_type": "code",
   "execution_count": 14,
   "metadata": {},
   "outputs": [],
   "source": [
    "# Lets delete a bucket now. We had to delete the object in the bucket because a bucket cannot be deleted if there still are object in the bucket\n",
    "response = client.delete_bucket(\n",
    "    Bucket='avi-learning-bucket'\n",
    ")"
   ]
  },
  {
   "cell_type": "code",
   "execution_count": 15,
   "metadata": {},
   "outputs": [
    {
     "data": {
      "text/plain": [
       "{'ResponseMetadata': {'RequestId': 'RFT31GY0H2BHFA7J',\n",
       "  'HostId': 'juIB+IJ8L9yg/20XzOdIIafDs5VX/EZlKoqhW0tWTBhVuq7f5D69doStYzzHZHpeMaU9o+EhMEg=',\n",
       "  'HTTPStatusCode': 200,\n",
       "  'HTTPHeaders': {'x-amz-id-2': 'juIB+IJ8L9yg/20XzOdIIafDs5VX/EZlKoqhW0tWTBhVuq7f5D69doStYzzHZHpeMaU9o+EhMEg=',\n",
       "   'x-amz-request-id': 'RFT31GY0H2BHFA7J',\n",
       "   'date': 'Wed, 13 Jul 2022 13:09:47 GMT',\n",
       "   'content-type': 'application/xml',\n",
       "   'transfer-encoding': 'chunked',\n",
       "   'server': 'AmazonS3'},\n",
       "  'RetryAttempts': 0},\n",
       " 'Buckets': [{'Name': 'avinashsingh07132022',\n",
       "   'CreationDate': datetime.datetime(2022, 7, 13, 12, 15, 54, tzinfo=tzutc())}],\n",
       " 'Owner': {'ID': '15bef8ce5b570a5e674f9934ab70bc06e78cd36047d5382d8556c2d3d4fcc4f7'}}"
      ]
     },
     "execution_count": 15,
     "metadata": {},
     "output_type": "execute_result"
    }
   ],
   "source": [
    "client.list_buckets()\n",
    "# the avi-learning-bucket is not more"
   ]
  },
  {
   "cell_type": "code",
   "execution_count": null,
   "metadata": {},
   "outputs": [],
   "source": []
  }
 ],
 "metadata": {
  "kernelspec": {
   "display_name": "Python 3.9.12 ('base')",
   "language": "python",
   "name": "python3"
  },
  "language_info": {
   "codemirror_mode": {
    "name": "ipython",
    "version": 3
   },
   "file_extension": ".py",
   "mimetype": "text/x-python",
   "name": "python",
   "nbconvert_exporter": "python",
   "pygments_lexer": "ipython3",
   "version": "3.9.12"
  },
  "orig_nbformat": 4,
  "vscode": {
   "interpreter": {
    "hash": "bc4cfecc69e7e78778ca0625e692376743fea3692aceab2f0b9ba68a0d016c23"
   }
  }
 },
 "nbformat": 4,
 "nbformat_minor": 2
}
