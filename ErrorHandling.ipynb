{
 "cells": [
  {
   "cell_type": "markdown",
   "metadata": {},
   "source": [
    "# botocore Error handling\n",
    "``` import botocore\n",
    "import boto3\n",
    "\n",
    "client = boto3.client('aws_service_name')\n",
    "\n",
    "try:\n",
    "    client.some_api_call(SomeParam='some_param')\n",
    "\n",
    "except botocore.exceptions.ClientError as error:\n",
    "    # Put your error handling logic here\n",
    "    raise error\n",
    "\n",
    "except botocore.exceptions.ParamValidationError as error:\n",
    "    raise ValueError('The parameters you provided are incorrect: {}'.format(error))```"
   ]
  },
  {
   "cell_type": "markdown",
   "metadata": {},
   "source": [
    "Boto3 classifies all AWS service errors and exceptions as ClientError exceptions. When attempting to catch AWS service exceptions, one way is to catch ClientError and then parse the error response for the AWS service-specific exception."
   ]
  },
  {
   "cell_type": "markdown",
   "metadata": {},
   "source": [
    "# Setting up Logger\n",
    "\n",
    "```import botocore\n",
    "import boto3\n",
    "import logging\n",
    "\n",
    "# Set up our logger\n",
    "logging.basicConfig(level=logging.INFO)\n",
    "logger = logging.getLogger()\n",
    "\n",
    "client = boto3.client('kinesis')\n",
    "\n",
    "try:\n",
    "    logger.info('Calling DescribeStream API on myDataStream')\n",
    "    client.describe_stream(StreamName='myDataStream')\n",
    "\n",
    "except botocore.exceptions.ClientError as error:\n",
    "    if error.response['Error']['Code'] == 'LimitExceededException':\n",
    "        logger.warn('API call limit exceeded; backing off and retrying...')\n",
    "    else:\n",
    "        raise error ```"
   ]
  },
  {
   "cell_type": "markdown",
   "metadata": {},
   "source": [
    "# Catching exceptions when using a resource client\n",
    "\n",
    "```\n",
    "import botocore\n",
    "import boto3\n",
    "\n",
    "client = boto3.resource('s3')\n",
    "\n",
    "try:\n",
    "    client.create_bucket(BucketName='myTestBucket')\n",
    "\n",
    "except client.meta.client.exceptions.BucketAlreadyExists as err:\n",
    "    print(\"Bucket {} already exists!\".format(err.response['Error']['BucketName']))\n",
    "    raise err\n",
    "    ```"
   ]
  },
  {
   "cell_type": "markdown",
   "metadata": {},
   "source": []
  }
 ],
 "metadata": {
  "kernelspec": {
   "display_name": "Python 3.9.12 ('base')",
   "language": "python",
   "name": "python3"
  },
  "language_info": {
   "codemirror_mode": {
    "name": "ipython",
    "version": 3
   },
   "file_extension": ".py",
   "mimetype": "text/x-python",
   "name": "python",
   "nbconvert_exporter": "python",
   "pygments_lexer": "ipython3",
   "version": "3.9.12"
  },
  "orig_nbformat": 4,
  "vscode": {
   "interpreter": {
    "hash": "bc4cfecc69e7e78778ca0625e692376743fea3692aceab2f0b9ba68a0d016c23"
   }
  }
 },
 "nbformat": 4,
 "nbformat_minor": 2
}
