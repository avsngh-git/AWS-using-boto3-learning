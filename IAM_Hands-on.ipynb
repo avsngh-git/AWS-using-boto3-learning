{
 "cells": [
  {
   "cell_type": "code",
   "execution_count": 15,
   "metadata": {},
   "outputs": [],
   "source": [
    "# Lets create an IAM role from boto3\n",
    "import boto3\n",
    "from botocore.exceptions import ClientError\n",
    "import logging\n"
   ]
  },
  {
   "cell_type": "code",
   "execution_count": 11,
   "metadata": {},
   "outputs": [],
   "source": [
    "logging.basicConfig(level=logging.INFO)\n",
    "logger = logging.getLogger()"
   ]
  },
  {
   "cell_type": "code",
   "execution_count": 20,
   "metadata": {},
   "outputs": [],
   "source": [
    "iam = boto3.resource('iam')\n"
   ]
  },
  {
   "cell_type": "code",
   "execution_count": 18,
   "metadata": {},
   "outputs": [],
   "source": [
    "from module.iamfunctions import create_role"
   ]
  },
  {
   "cell_type": "code",
   "execution_count": 23,
   "metadata": {},
   "outputs": [
    {
     "ename": "TypeError",
     "evalue": "create_role() takes 2 positional arguments but 3 were given",
     "output_type": "error",
     "traceback": [
      "\u001b[0;31m---------------------------------------------------------------------------\u001b[0m",
      "\u001b[0;31mTypeError\u001b[0m                                 Traceback (most recent call last)",
      "\u001b[1;32m/home/avinash/Data Science/AWS learning/AWS-using-boto3-learning/IAM_Hands-on.ipynb Cell 5\u001b[0m in \u001b[0;36m<cell line: 2>\u001b[0;34m()\u001b[0m\n\u001b[1;32m      <a href='vscode-notebook-cell://wsl%2Bubuntu/home/avinash/Data%20Science/AWS%20learning/AWS-using-boto3-learning/IAM_Hands-on.ipynb#ch0000002vscode-remote?line=0'>1</a>\u001b[0m services \u001b[39m=\u001b[39m [\u001b[39m'\u001b[39m\u001b[39mlambda.amazonaws.com\u001b[39m\u001b[39m'\u001b[39m]\n\u001b[0;32m----> <a href='vscode-notebook-cell://wsl%2Bubuntu/home/avinash/Data%20Science/AWS%20learning/AWS-using-boto3-learning/IAM_Hands-on.ipynb#ch0000002vscode-remote?line=1'>2</a>\u001b[0m create_role (\u001b[39m'\u001b[39;49m\u001b[39mfirst-python-role\u001b[39;49m\u001b[39m'\u001b[39;49m, services, iam)\n",
      "\u001b[0;31mTypeError\u001b[0m: create_role() takes 2 positional arguments but 3 were given"
     ]
    }
   ],
   "source": [
    "\n",
    "services = ['lambda.amazonaws.com']\n",
    "create_role ('first-python-role', services)"
   ]
  },
  {
   "cell_type": "code",
   "execution_count": null,
   "metadata": {},
   "outputs": [],
   "source": []
  }
 ],
 "metadata": {
  "kernelspec": {
   "display_name": "Python 3.9.12 ('base')",
   "language": "python",
   "name": "python3"
  },
  "language_info": {
   "codemirror_mode": {
    "name": "ipython",
    "version": 3
   },
   "file_extension": ".py",
   "mimetype": "text/x-python",
   "name": "python",
   "nbconvert_exporter": "python",
   "pygments_lexer": "ipython3",
   "version": "3.9.12"
  },
  "orig_nbformat": 4,
  "vscode": {
   "interpreter": {
    "hash": "bc4cfecc69e7e78778ca0625e692376743fea3692aceab2f0b9ba68a0d016c23"
   }
  }
 },
 "nbformat": 4,
 "nbformat_minor": 2
}
